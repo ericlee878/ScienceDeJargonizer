{
 "cells": [
  {
   "cell_type": "code",
   "execution_count": 1,
   "id": "68827cb7-4bf0-44af-924b-f37b571cd737",
   "metadata": {},
   "outputs": [
    {
     "name": "stdout",
     "output_type": "stream",
     "text": [
      "LlamaIndex version: 0.10.35\n",
      "Weaviate version: 4.5.7\n"
     ]
    }
   ],
   "source": [
    "import llama_index\n",
    "import weaviate\n",
    "from importlib.metadata import version\n",
    "\n",
    "print(f\"LlamaIndex version: {version('llama_index')}\")\n",
    "print(f\"Weaviate version: {version('weaviate-client')}\")"
   ]
  },
  {
   "cell_type": "code",
   "execution_count": 3,
   "id": "6594f072-7a0f-47d4-a266-9bf69261c534",
   "metadata": {},
   "outputs": [
    {
     "data": {
      "text/plain": [
       "True"
      ]
     },
     "execution_count": 3,
     "metadata": {},
     "output_type": "execute_result"
    }
   ],
   "source": [
    "import os\n",
    "from dotenv import load_dotenv,find_dotenv\n",
    "\n",
    "# Use this line of code if you have a local .env file\n",
    "load_dotenv(find_dotenv()) \n",
    "\n"
   ]
  },
  {
   "cell_type": "code",
   "execution_count": null,
   "id": "f088e7e3-1ab7-4ca5-8f44-a849930b76a5",
   "metadata": {},
   "outputs": [],
   "source": []
  }
 ],
 "metadata": {
  "kernelspec": {
   "display_name": "Python 3 (ipykernel)",
   "language": "python",
   "name": "python3"
  },
  "language_info": {
   "codemirror_mode": {
    "name": "ipython",
    "version": 3
   },
   "file_extension": ".py",
   "mimetype": "text/x-python",
   "name": "python",
   "nbconvert_exporter": "python",
   "pygments_lexer": "ipython3",
   "version": "3.9.16"
  }
 },
 "nbformat": 4,
 "nbformat_minor": 5
}
