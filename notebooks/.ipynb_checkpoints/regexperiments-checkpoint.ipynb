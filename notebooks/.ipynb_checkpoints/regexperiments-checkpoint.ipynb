{
 "cells": [
  {
   "cell_type": "code",
   "execution_count": 1,
   "id": "93ec0dd7-e691-4cf9-a76f-51b5dfa9c899",
   "metadata": {},
   "outputs": [],
   "source": [
    "import re\n",
    "import json\n",
    "import pandas as pd"
   ]
  },
  {
   "cell_type": "code",
   "execution_count": 7,
   "id": "4f1b24bb-971d-471c-8f50-10bad4593c39",
   "metadata": {},
   "outputs": [
    {
     "name": "stdout",
     "output_type": "stream",
     "text": [
      "\"Accepted to NeurIPS 2024\" mentions accepted paper: True\n",
      "\"Published at CHI 2023\" mentions accepted paper: True\n",
      "\"To be presented at CSCW 2024\" mentions accepted paper: True\n",
      "\"FAccT 2024\" mentions accepted paper: True\n",
      "\"2023\" mentions accepted paper: True\n",
      "\"2025\" mentions accepted paper: True\n"
     ]
    }
   ],
   "source": [
    "def is_peer_reviwed(comment):\n",
    "\n",
    "    '''\n",
    "    Parameters:\n",
    "    ----------------\n",
    "    comment: String, contains any author comments posted along with the arXiv metadata\n",
    "\n",
    "    Returns:\n",
    "    ----------------\n",
    "    peer_reviewed: Boolean, True or False, depending on the comment\n",
    "    '''\n",
    "\n",
    "    # Define a regular expression pattern to match strings meeting the criteria for peer review indicators\n",
    "    pattern = r'(accept.*|publish.*|present.*|2023|2024|2025)'\n",
    "    \n",
    "    # Use re.search to find if the pattern matches anywhere in the text\n",
    "    match = re.search(pattern, comment, re.IGNORECASE)\n",
    "    \n",
    "    # If a match is found, return True, otherwise return False\n",
    "    return bool(match)\n",
    "\n",
    "\n",
    "# Test the function with some example strings\n",
    "examples = [\n",
    "    \"Accepted to NeurIPS 2024\",\n",
    "    \"Published at CHI 2023\",\n",
    "    \"To be presented at CSCW 2024\",\n",
    "    \"FAccT 2024\",\n",
    "    \"2023\",\n",
    "    \"2025\",\n",
    "]\n",
    "\n",
    "for example in examples:\n",
    "    print(f'\"{example}\" mentions accepted paper: {filter_conference_papers(example)}')"
   ]
  },
  {
   "cell_type": "code",
   "execution_count": 3,
   "id": "bbf8bc52-096c-4e4b-b07a-5fdfc18faab0",
   "metadata": {},
   "outputs": [],
   "source": [
    "with open('../data/raw/240302_240303_arxiv_metadata.json') as json_data:\n",
    "    d = json.load(json_data)\n",
    "    json_data.close()"
   ]
  },
  {
   "cell_type": "code",
   "execution_count": 4,
   "id": "88b5c97a-b80b-4588-bc06-963f6c8a7b19",
   "metadata": {},
   "outputs": [],
   "source": [
    "# Convert JSON to DataFrame\n",
    "df = pd.DataFrame.from_dict(d, orient='index')"
   ]
  },
  {
   "cell_type": "code",
   "execution_count": 5,
   "id": "2296bedf-430c-488d-b694-cea012df0ec0",
   "metadata": {},
   "outputs": [
    {
     "data": {
      "text/html": [
       "<div>\n",
       "<style scoped>\n",
       "    .dataframe tbody tr th:only-of-type {\n",
       "        vertical-align: middle;\n",
       "    }\n",
       "\n",
       "    .dataframe tbody tr th {\n",
       "        vertical-align: top;\n",
       "    }\n",
       "\n",
       "    .dataframe thead th {\n",
       "        text-align: right;\n",
       "    }\n",
       "</style>\n",
       "<table border=\"1\" class=\"dataframe\">\n",
       "  <thead>\n",
       "    <tr style=\"text-align: right;\">\n",
       "      <th></th>\n",
       "      <th>title</th>\n",
       "      <th>authors</th>\n",
       "      <th>comments</th>\n",
       "      <th>subjects</th>\n",
       "      <th>abstract</th>\n",
       "    </tr>\n",
       "  </thead>\n",
       "  <tbody>\n",
       "    <tr>\n",
       "      <th>2307.07515</th>\n",
       "      <td>Artificial intelligence is algorithmic mimicry...</td>\n",
       "      <td>[Johannes Jaeger]</td>\n",
       "      <td></td>\n",
       "      <td>Artificial Intelligence (cs.AI)</td>\n",
       "      <td>What is the prospect of developing artificial ...</td>\n",
       "    </tr>\n",
       "    <tr>\n",
       "      <th>2401.12413</th>\n",
       "      <td>How Far Can 100 Samples Go? Unlocking Overall ...</td>\n",
       "      <td>[Di Wu, Shaomu Tan, Yan Meng, David Stap, Chri...</td>\n",
       "      <td>15 pages, 5 figures</td>\n",
       "      <td>Computation and Language (cs.CL)</td>\n",
       "      <td>Zero-shot translation aims to translate betwee...</td>\n",
       "    </tr>\n",
       "    <tr>\n",
       "      <th>2402.16860</th>\n",
       "      <td>Interactive Mars Image Content-Based Search wi...</td>\n",
       "      <td>[Bhavan Vasu, Steven Lu, Emily Dunkel, Kiri L....</td>\n",
       "      <td>7 pages, 6 figures</td>\n",
       "      <td>Computer Vision and Pattern Recognition (cs.CV)</td>\n",
       "      <td>The NASA Planetary Data System (PDS) hosts mil...</td>\n",
       "    </tr>\n",
       "    <tr>\n",
       "      <th>2402.17110</th>\n",
       "      <td>Sinkhorn Distance Minimization for Knowledge D...</td>\n",
       "      <td>[Xiao Cui, Yulei Qin, Yuting Gao, Enwei Zhang,...</td>\n",
       "      <td>Accepted by COLING 2024</td>\n",
       "      <td>Machine Learning (cs.LG)</td>\n",
       "      <td>Knowledge distillation (KD) has been widely ad...</td>\n",
       "    </tr>\n",
       "    <tr>\n",
       "      <th>2402.17229</th>\n",
       "      <td>Preserving Fairness Generalization in Deepfake...</td>\n",
       "      <td>[Li Lin, Xinan He, Yan Ju, Xin Wang, Feng Ding...</td>\n",
       "      <td>Accepted by The IEEE/CVF Conference on Compute...</td>\n",
       "      <td>Computer Vision and Pattern Recognition (cs.CV)</td>\n",
       "      <td>Although effective deepfake detection models h...</td>\n",
       "    </tr>\n",
       "  </tbody>\n",
       "</table>\n",
       "</div>"
      ],
      "text/plain": [
       "                                                        title  \\\n",
       "2307.07515  Artificial intelligence is algorithmic mimicry...   \n",
       "2401.12413  How Far Can 100 Samples Go? Unlocking Overall ...   \n",
       "2402.16860  Interactive Mars Image Content-Based Search wi...   \n",
       "2402.17110  Sinkhorn Distance Minimization for Knowledge D...   \n",
       "2402.17229  Preserving Fairness Generalization in Deepfake...   \n",
       "\n",
       "                                                      authors  \\\n",
       "2307.07515                                  [Johannes Jaeger]   \n",
       "2401.12413  [Di Wu, Shaomu Tan, Yan Meng, David Stap, Chri...   \n",
       "2402.16860  [Bhavan Vasu, Steven Lu, Emily Dunkel, Kiri L....   \n",
       "2402.17110  [Xiao Cui, Yulei Qin, Yuting Gao, Enwei Zhang,...   \n",
       "2402.17229  [Li Lin, Xinan He, Yan Ju, Xin Wang, Feng Ding...   \n",
       "\n",
       "                                                     comments  \\\n",
       "2307.07515                                                      \n",
       "2401.12413                                15 pages, 5 figures   \n",
       "2402.16860                                 7 pages, 6 figures   \n",
       "2402.17110                            Accepted by COLING 2024   \n",
       "2402.17229  Accepted by The IEEE/CVF Conference on Compute...   \n",
       "\n",
       "                                                   subjects  \\\n",
       "2307.07515                  Artificial Intelligence (cs.AI)   \n",
       "2401.12413                 Computation and Language (cs.CL)   \n",
       "2402.16860  Computer Vision and Pattern Recognition (cs.CV)   \n",
       "2402.17110                         Machine Learning (cs.LG)   \n",
       "2402.17229  Computer Vision and Pattern Recognition (cs.CV)   \n",
       "\n",
       "                                                     abstract  \n",
       "2307.07515  What is the prospect of developing artificial ...  \n",
       "2401.12413  Zero-shot translation aims to translate betwee...  \n",
       "2402.16860  The NASA Planetary Data System (PDS) hosts mil...  \n",
       "2402.17110  Knowledge distillation (KD) has been widely ad...  \n",
       "2402.17229  Although effective deepfake detection models h...  "
      ]
     },
     "execution_count": 5,
     "metadata": {},
     "output_type": "execute_result"
    }
   ],
   "source": [
    "df.head()"
   ]
  },
  {
   "cell_type": "code",
   "execution_count": 6,
   "id": "2c767fc7-a465-4e1e-a0ed-44cc632440cf",
   "metadata": {},
   "outputs": [
    {
     "ename": "NameError",
     "evalue": "name 'is_peer_reviwed' is not defined",
     "output_type": "error",
     "traceback": [
      "\u001b[0;31m---------------------------------------------------------------------------\u001b[0m",
      "\u001b[0;31mNameError\u001b[0m                                 Traceback (most recent call last)",
      "Cell \u001b[0;32mIn[6], line 1\u001b[0m\n\u001b[0;32m----> 1\u001b[0m df[\u001b[38;5;124m'\u001b[39m\u001b[38;5;124mpeer_reviewed\u001b[39m\u001b[38;5;124m'\u001b[39m] \u001b[38;5;241m=\u001b[39m df[\u001b[38;5;124m'\u001b[39m\u001b[38;5;124mcomments\u001b[39m\u001b[38;5;124m'\u001b[39m]\u001b[38;5;241m.\u001b[39mapply(\u001b[43mis_peer_reviwed\u001b[49m)\n",
      "\u001b[0;31mNameError\u001b[0m: name 'is_peer_reviwed' is not defined"
     ]
    }
   ],
   "source": [
    "df['peer_reviewed'] = df['comments'].apply(is_peer_reviwed)"
   ]
  },
  {
   "cell_type": "code",
   "execution_count": null,
   "id": "607a8e1b-96ad-41ee-822c-02baaf702249",
   "metadata": {},
   "outputs": [],
   "source": []
  }
 ],
 "metadata": {
  "kernelspec": {
   "display_name": "Python 3 (ipykernel)",
   "language": "python",
   "name": "python3"
  },
  "language_info": {
   "codemirror_mode": {
    "name": "ipython",
    "version": 3
   },
   "file_extension": ".py",
   "mimetype": "text/x-python",
   "name": "python",
   "nbconvert_exporter": "python",
   "pygments_lexer": "ipython3",
   "version": "3.9.16"
  }
 },
 "nbformat": 4,
 "nbformat_minor": 5
}
