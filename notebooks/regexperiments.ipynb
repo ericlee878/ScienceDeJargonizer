{
 "cells": [
  {
   "cell_type": "code",
   "execution_count": 1,
   "id": "93ec0dd7-e691-4cf9-a76f-51b5dfa9c899",
   "metadata": {},
   "outputs": [],
   "source": [
    "import re\n",
    "import json\n",
    "import pandas as pd"
   ]
  },
  {
   "cell_type": "code",
   "execution_count": 2,
   "id": "4f1b24bb-971d-471c-8f50-10bad4593c39",
   "metadata": {},
   "outputs": [],
   "source": [
    "def is_peer_reviewed(comment):\n",
    "\n",
    "    '''\n",
    "    Parameters:\n",
    "    ----------------\n",
    "    comment: String, contains any author comments posted along with the arXiv metadata\n",
    "\n",
    "    Returns:\n",
    "    ----------------\n",
    "    peer_reviewed: Boolean, True or False, depending on the comment\n",
    "    '''\n",
    "\n",
    "    # Define a regular expression pattern to match strings meeting the criteria for peer review indicators\n",
    "    pattern = r'(accept.*|publish.*|present.*|2023|2024|2025)'\n",
    "    \n",
    "    # Use re.search to find if the pattern matches anywhere in the text\n",
    "    match = re.search(pattern, comment, re.IGNORECASE)\n",
    "    \n",
    "    # If a match is found, return True, otherwise return False\n",
    "    return bool(match)\n",
    "\n",
    "\n"
   ]
  },
  {
   "cell_type": "code",
   "execution_count": 3,
   "id": "d8f21847-7a52-422e-9dd6-654565654937",
   "metadata": {},
   "outputs": [],
   "source": [
    "# Read in the IDs w/ the metadata -- change filename to the relevant one\n",
    "with open('../data/raw/240301_240401_arxiv_metadata.json') as json_data:\n",
    "    metadata = json.load(json_data)\n",
    "    json_data.close()\n",
    "\n",
    "# Convert JSON to DataFrame\n",
    "metadata_df = pd.DataFrame.from_dict(metadata, orient='index')\n",
    "metadata_df.index.name = 'arxiv_id'\n",
    "metadata_df = metadata_df.reset_index()"
   ]
  },
  {
   "cell_type": "code",
   "execution_count": 4,
   "id": "2296bedf-430c-488d-b694-cea012df0ec0",
   "metadata": {},
   "outputs": [
    {
     "data": {
      "text/html": [
       "<div>\n",
       "<style scoped>\n",
       "    .dataframe tbody tr th:only-of-type {\n",
       "        vertical-align: middle;\n",
       "    }\n",
       "\n",
       "    .dataframe tbody tr th {\n",
       "        vertical-align: top;\n",
       "    }\n",
       "\n",
       "    .dataframe thead th {\n",
       "        text-align: right;\n",
       "    }\n",
       "</style>\n",
       "<table border=\"1\" class=\"dataframe\">\n",
       "  <thead>\n",
       "    <tr style=\"text-align: right;\">\n",
       "      <th></th>\n",
       "      <th>arxiv_id</th>\n",
       "      <th>title</th>\n",
       "      <th>authors</th>\n",
       "      <th>comments</th>\n",
       "      <th>subjects</th>\n",
       "      <th>abstract</th>\n",
       "    </tr>\n",
       "  </thead>\n",
       "  <tbody>\n",
       "    <tr>\n",
       "      <th>0</th>\n",
       "      <td>1404.0736</td>\n",
       "      <td>Exploiting Linear Structure Within Convolution...</td>\n",
       "      <td>[Remi Denton, Wojciech Zaremba, Joan Bruna, Ya...</td>\n",
       "      <td></td>\n",
       "      <td>Computer Vision and Pattern Recognition (cs.CV)</td>\n",
       "      <td>We present techniques for speeding up the te...</td>\n",
       "    </tr>\n",
       "    <tr>\n",
       "      <th>1</th>\n",
       "      <td>1607.01327</td>\n",
       "      <td>Feature Selection Library (MATLAB Toolbox)</td>\n",
       "      <td>[Giorgio Roffo]</td>\n",
       "      <td>Feature Selection Library (FSLib) 2024</td>\n",
       "      <td>Computer Vision and Pattern Recognition (cs.CV)</td>\n",
       "      <td>The Feature Selection Library (FSLib) introduc...</td>\n",
       "    </tr>\n",
       "    <tr>\n",
       "      <th>2</th>\n",
       "      <td>1610.00291</td>\n",
       "      <td>Deep Feature Consistent Variational Autoencoder</td>\n",
       "      <td>[Xianxu Hou, Linlin Shen, Ke Sun, Guoping Qiu]</td>\n",
       "      <td>WACV</td>\n",
       "      <td>Computer Vision and Pattern Recognition (cs.CV)</td>\n",
       "      <td>We present a novel method for constructing Var...</td>\n",
       "    </tr>\n",
       "    <tr>\n",
       "      <th>3</th>\n",
       "      <td>1611.06430</td>\n",
       "      <td>Semi-Supervised Learning with Context-Conditio...</td>\n",
       "      <td>[Remi Denton, Sam Gross, Rob Fergus]</td>\n",
       "      <td></td>\n",
       "      <td>Computer Vision and Pattern Recognition (cs.CV)</td>\n",
       "      <td>We introduce a simple semi-supervised learni...</td>\n",
       "    </tr>\n",
       "    <tr>\n",
       "      <th>4</th>\n",
       "      <td>1611.06544</td>\n",
       "      <td>Stochastic Agent-Based Models of Intimate Part...</td>\n",
       "      <td>[Elisa Guidi, Patrizia Meringolo, Andrea Guazz...</td>\n",
       "      <td></td>\n",
       "      <td>Social and Information Networks (cs.SI)</td>\n",
       "      <td>Intimate partner violence (IPV) is a significa...</td>\n",
       "    </tr>\n",
       "  </tbody>\n",
       "</table>\n",
       "</div>"
      ],
      "text/plain": [
       "     arxiv_id                                              title  \\\n",
       "0   1404.0736  Exploiting Linear Structure Within Convolution...   \n",
       "1  1607.01327         Feature Selection Library (MATLAB Toolbox)   \n",
       "2  1610.00291    Deep Feature Consistent Variational Autoencoder   \n",
       "3  1611.06430  Semi-Supervised Learning with Context-Conditio...   \n",
       "4  1611.06544  Stochastic Agent-Based Models of Intimate Part...   \n",
       "\n",
       "                                             authors  \\\n",
       "0  [Remi Denton, Wojciech Zaremba, Joan Bruna, Ya...   \n",
       "1                                    [Giorgio Roffo]   \n",
       "2     [Xianxu Hou, Linlin Shen, Ke Sun, Guoping Qiu]   \n",
       "3               [Remi Denton, Sam Gross, Rob Fergus]   \n",
       "4  [Elisa Guidi, Patrizia Meringolo, Andrea Guazz...   \n",
       "\n",
       "                                 comments  \\\n",
       "0                                           \n",
       "1  Feature Selection Library (FSLib) 2024   \n",
       "2                                    WACV   \n",
       "3                                           \n",
       "4                                           \n",
       "\n",
       "                                          subjects  \\\n",
       "0  Computer Vision and Pattern Recognition (cs.CV)   \n",
       "1  Computer Vision and Pattern Recognition (cs.CV)   \n",
       "2  Computer Vision and Pattern Recognition (cs.CV)   \n",
       "3  Computer Vision and Pattern Recognition (cs.CV)   \n",
       "4          Social and Information Networks (cs.SI)   \n",
       "\n",
       "                                            abstract  \n",
       "0    We present techniques for speeding up the te...  \n",
       "1  The Feature Selection Library (FSLib) introduc...  \n",
       "2  We present a novel method for constructing Var...  \n",
       "3    We introduce a simple semi-supervised learni...  \n",
       "4  Intimate partner violence (IPV) is a significa...  "
      ]
     },
     "execution_count": 4,
     "metadata": {},
     "output_type": "execute_result"
    }
   ],
   "source": [
    "metadata_df.head()"
   ]
  },
  {
   "cell_type": "code",
   "execution_count": 5,
   "id": "1511cf1f-8612-447b-83a7-9bc3ef6132e4",
   "metadata": {},
   "outputs": [
    {
     "data": {
      "text/plain": [
       "(7119, 6)"
      ]
     },
     "execution_count": 5,
     "metadata": {},
     "output_type": "execute_result"
    }
   ],
   "source": [
    "metadata_df.shape"
   ]
  },
  {
   "cell_type": "code",
   "execution_count": 6,
   "id": "2c767fc7-a465-4e1e-a0ed-44cc632440cf",
   "metadata": {},
   "outputs": [],
   "source": [
    "metadata_df['peer_reviewed'] = metadata_df['comments'].apply(is_peer_reviewed)\n",
    "metadata_df = metadata_df.loc[metadata_df['peer_reviewed']].reset_index(drop=True)\n"
   ]
  },
  {
   "cell_type": "code",
   "execution_count": 7,
   "id": "607a8e1b-96ad-41ee-822c-02baaf702249",
   "metadata": {},
   "outputs": [
    {
     "data": {
      "text/plain": [
       "(2081, 7)"
      ]
     },
     "execution_count": 7,
     "metadata": {},
     "output_type": "execute_result"
    }
   ],
   "source": [
    "metadata_df.shape"
   ]
  },
  {
   "cell_type": "code",
   "execution_count": 10,
   "id": "9e37d739-e962-41d1-b22f-fd935ff4837b",
   "metadata": {},
   "outputs": [
    {
     "data": {
      "text/plain": [
       "Computer Vision and Pattern Recognition (cs.CV)    752\n",
       "Computation and Language (cs.CL)                   419\n",
       "Machine Learning (cs.LG)                           324\n",
       "Robotics (cs.RO)                                   275\n",
       "Human-Computer Interaction (cs.HC)                 110\n",
       "Artificial Intelligence (cs.AI)                     68\n",
       "Information Retrieval (cs.IR)                       63\n",
       "Computers and Society (cs.CY)                       35\n",
       "Social and Information Networks (cs.SI)             19\n",
       "Networking and Internet Architecture (cs.NI)        16\n",
       "Name: subjects, dtype: int64"
      ]
     },
     "execution_count": 10,
     "metadata": {},
     "output_type": "execute_result"
    }
   ],
   "source": [
    "metadata_df['subjects'].value_counts()"
   ]
  },
  {
   "cell_type": "code",
   "execution_count": null,
   "id": "76fce118-914a-4a8a-be83-39498fca2cf5",
   "metadata": {},
   "outputs": [],
   "source": [
    "metadata_df.head()"
   ]
  },
  {
   "cell_type": "code",
   "execution_count": null,
   "id": "cbec4f4f-42f1-407e-b9f8-e7613eb826e7",
   "metadata": {},
   "outputs": [],
   "source": []
  }
 ],
 "metadata": {
  "kernelspec": {
   "display_name": "Python 3 (ipykernel)",
   "language": "python",
   "name": "python3"
  },
  "language_info": {
   "codemirror_mode": {
    "name": "ipython",
    "version": 3
   },
   "file_extension": ".py",
   "mimetype": "text/x-python",
   "name": "python",
   "nbconvert_exporter": "python",
   "pygments_lexer": "ipython3",
   "version": "3.9.16"
  }
 },
 "nbformat": 4,
 "nbformat_minor": 5
}
